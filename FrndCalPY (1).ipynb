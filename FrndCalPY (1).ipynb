{
 "cells": [
  {
   "cell_type": "code",
   "execution_count": 1,
   "metadata": {},
   "outputs": [],
   "source": [
    "import random\n",
    "import tkinter as tk\n",
    "import pandas as pd\n",
    "import datetime"
   ]
  },
  {
   "cell_type": "code",
   "execution_count": 14,
   "metadata": {},
   "outputs": [],
   "source": [
    "root = tk.Tk()\n",
    "root.geometry(\"400x300\")\n",
    "root.title(\"Friendship Calculator Game\")\n",
    "result = 40+int(pd.datetime.now().second)\n",
    "entryname1 = tk.Entry(root, width=20, textvariable='name1')\n",
    "entryname1.grid(column=1,row=1)\n",
    "entryname2 = tk.Entry(root, width=20, textvariable='name2')\n",
    "entryname2.grid(column=1,row=2)\n",
    "def Checklove():\n",
    "    global result\n",
    "    text_area = tk.Text(master=root, height=2, width=60, bg=\"#FFFF99\")\n",
    "    text_area.grid(column=0,row=5)\n",
    "    result = (\"Friendship Score is :\",result)\n",
    "    text_area.insert(tk.END,result)\n",
    "\n",
    "\n",
    "button2 = tk.Button(text=\"   CHECK LOVE   \",bg=\"pink\",command=Checklove)\n",
    "button2.grid(column=1,row=3)\n",
    "\n",
    "label1 = tk.Label(root, text='Your Name : ',bg='red',font=('',15,'bold'))\n",
    "label1.grid(row=1, column=0, pady=5, padx=5)\n",
    "label2 = tk.Label(root, text='Friends Name : ',bg='red',font=('',15,'bold'))\n",
    "label2.grid(row=2, column=0, pady=5, padx=5)\n",
    "\n",
    "root.mainloop()"
   ]
  },
  {
   "cell_type": "code",
   "execution_count": null,
   "metadata": {},
   "outputs": [],
   "source": []
  },
  {
   "cell_type": "code",
   "execution_count": null,
   "metadata": {},
   "outputs": [],
   "source": []
  }
 ],
 "metadata": {
  "kernelspec": {
   "display_name": "Python 3",
   "language": "python",
   "name": "python3"
  },
  "language_info": {
   "codemirror_mode": {
    "name": "ipython",
    "version": 3
   },
   "file_extension": ".py",
   "mimetype": "text/x-python",
   "name": "python",
   "nbconvert_exporter": "python",
   "pygments_lexer": "ipython3",
   "version": "3.6.5"
  }
 },
 "nbformat": 4,
 "nbformat_minor": 2
}
